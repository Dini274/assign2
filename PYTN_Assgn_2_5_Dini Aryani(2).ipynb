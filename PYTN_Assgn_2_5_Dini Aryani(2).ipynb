{
 "cells": [
  {
   "cell_type": "markdown",
   "id": "c6819833",
   "metadata": {},
   "source": [
    "Nama : Dini Aryani\n",
    "\n",
    "Kode : PYTN-KS19-06"
   ]
  },
  {
   "cell_type": "markdown",
   "id": "1ebddc68",
   "metadata": {},
   "source": [
    "# Statistical Treatment for Retail Dataset (NYC Property Sales)"
   ]
  },
  {
   "cell_type": "markdown",
   "id": "9b23fb97",
   "metadata": {},
   "source": [
    "\"NYC Property Sales.\" Ini adalah dataset yang berisi informasi tentang penjualan properti di Kota New York, Amerika Serikat. Dataset ini memiliki berbagai fitur yang memberikan gambaran tentang transaksi properti, termasuk detail mengenai properti dan penjualan. Dataset ini umumnya digunakan untuk analisis properti dan pemodelan prediktif terkait pasar perumahan di Kota New York.\n",
    "\n",
    "Berikut adalah beberapa fitur utama dalam dataset \"NYC Property Sales\" dan penjelasannya:\n",
    "1. BOROUGH: Daerah (borough) di Kota New York tempat properti berada. Kota New York terdiri dari lima borough: Manhattan (1), Bronx (2), Brooklyn (3), Queens (4), dan Staten Island (5).\n",
    "2. NEIGHBORHOOD: Nama lingkungan di mana properti terletak.\n",
    "3. BUILDING CLASS CATEGORY: Kategori kelas bangunan yang menggambarkan tipe properti, misalnya, \"Condos - Elevator Apartments.\"\n",
    "4. TAX CLASS AT PRESENT: Kode kelas pajak properti pada saat penjualan.\n",
    "5. BLOCK: Nomor blok properti.\n",
    "6. LOT: Nomor lot properti.\n",
    "7. BUILDING CLASS AT PRESENT: Kode kelas bangunan pada saat penjualan.\n",
    "8. ADDRESS: Alamat properti.\n",
    "9. ZIP CODE : kode pos\n",
    "10. APARTMENT NUMBER: Nomor apartemen (jika ada).\n",
    "11. RESIDENTIAL UNITS: Jumlah unit tempat tinggal di properti.\n",
    "12. COMMERCIAL UNITS: Jumlah unit komersial di properti.\n",
    "13. TOTAL UNITS: Total jumlah unit di properti (termasuk unit tempat tinggal dan komersial).\n",
    "14. LAND SQUARE FEET: Luas tanah properti dalam kaki persegi.\n",
    "15. GROSS SQUARE FEET: Luas bangunan dalam faki persegi.\n",
    "16. YEAR BUILT: Tahun pembangunan properti.\n",
    "17. TAX CLASS AT TIME OF SALE: Kode kelas pajak properti pada saat penjualan.\n",
    "18. BUILDING CLASS AT TIME OF SALE: Kode kelas bangunan pada saat penjualan.\n",
    "19. SALE PRICE: Harga penjualan properti.\n",
    "20. SALE DATE: Tanggal penjualan properti.\n",
    "\n",
    "Dataset ini digunakan untuk menganalisis tren penjualan properti, memprediksi harga penjualan, dan melakukan berbagai analisis terkait real estate di Kota New York. "
   ]
  },
  {
   "cell_type": "markdown",
   "id": "27b2f3c0",
   "metadata": {},
   "source": [
    "## Import Library"
   ]
  },
  {
   "cell_type": "code",
   "execution_count": 2,
   "id": "1cf3870f",
   "metadata": {},
   "outputs": [],
   "source": [
    "import math\n",
    "import statistics\n",
    "import numpy as np\n",
    "import scipy.stats\n",
    "import pandas as pd"
   ]
  },
  {
   "cell_type": "markdown",
   "id": "e8c02fef",
   "metadata": {},
   "source": [
    "## Membaca Dataset"
   ]
  },
  {
   "cell_type": "code",
   "execution_count": 3,
   "id": "8f9184b9",
   "metadata": {},
   "outputs": [
    {
     "data": {
      "text/html": [
       "<div>\n",
       "<style scoped>\n",
       "    .dataframe tbody tr th:only-of-type {\n",
       "        vertical-align: middle;\n",
       "    }\n",
       "\n",
       "    .dataframe tbody tr th {\n",
       "        vertical-align: top;\n",
       "    }\n",
       "\n",
       "    .dataframe thead th {\n",
       "        text-align: right;\n",
       "    }\n",
       "</style>\n",
       "<table border=\"1\" class=\"dataframe\">\n",
       "  <thead>\n",
       "    <tr style=\"text-align: right;\">\n",
       "      <th></th>\n",
       "      <th>Unnamed: 0</th>\n",
       "      <th>BOROUGH</th>\n",
       "      <th>NEIGHBORHOOD</th>\n",
       "      <th>BUILDING CLASS CATEGORY</th>\n",
       "      <th>TAX CLASS AT PRESENT</th>\n",
       "      <th>BLOCK</th>\n",
       "      <th>LOT</th>\n",
       "      <th>EASE-MENT</th>\n",
       "      <th>BUILDING CLASS AT PRESENT</th>\n",
       "      <th>ADDRESS</th>\n",
       "      <th>...</th>\n",
       "      <th>RESIDENTIAL UNITS</th>\n",
       "      <th>COMMERCIAL UNITS</th>\n",
       "      <th>TOTAL UNITS</th>\n",
       "      <th>LAND SQUARE FEET</th>\n",
       "      <th>GROSS SQUARE FEET</th>\n",
       "      <th>YEAR BUILT</th>\n",
       "      <th>TAX CLASS AT TIME OF SALE</th>\n",
       "      <th>BUILDING CLASS AT TIME OF SALE</th>\n",
       "      <th>SALE PRICE</th>\n",
       "      <th>SALE DATE</th>\n",
       "    </tr>\n",
       "  </thead>\n",
       "  <tbody>\n",
       "    <tr>\n",
       "      <th>0</th>\n",
       "      <td>4</td>\n",
       "      <td>1</td>\n",
       "      <td>ALPHABET CITY</td>\n",
       "      <td>07 RENTALS - WALKUP APARTMENTS</td>\n",
       "      <td>2A</td>\n",
       "      <td>392</td>\n",
       "      <td>6</td>\n",
       "      <td></td>\n",
       "      <td>C2</td>\n",
       "      <td>153 AVENUE B</td>\n",
       "      <td>...</td>\n",
       "      <td>5</td>\n",
       "      <td>0</td>\n",
       "      <td>5</td>\n",
       "      <td>1633</td>\n",
       "      <td>6440</td>\n",
       "      <td>1900</td>\n",
       "      <td>2</td>\n",
       "      <td>C2</td>\n",
       "      <td>6625000</td>\n",
       "      <td>2017-07-19 00:00:00</td>\n",
       "    </tr>\n",
       "    <tr>\n",
       "      <th>1</th>\n",
       "      <td>5</td>\n",
       "      <td>1</td>\n",
       "      <td>ALPHABET CITY</td>\n",
       "      <td>07 RENTALS - WALKUP APARTMENTS</td>\n",
       "      <td>2</td>\n",
       "      <td>399</td>\n",
       "      <td>26</td>\n",
       "      <td></td>\n",
       "      <td>C7</td>\n",
       "      <td>234 EAST 4TH   STREET</td>\n",
       "      <td>...</td>\n",
       "      <td>28</td>\n",
       "      <td>3</td>\n",
       "      <td>31</td>\n",
       "      <td>4616</td>\n",
       "      <td>18690</td>\n",
       "      <td>1900</td>\n",
       "      <td>2</td>\n",
       "      <td>C7</td>\n",
       "      <td>-</td>\n",
       "      <td>2016-12-14 00:00:00</td>\n",
       "    </tr>\n",
       "    <tr>\n",
       "      <th>2</th>\n",
       "      <td>6</td>\n",
       "      <td>1</td>\n",
       "      <td>ALPHABET CITY</td>\n",
       "      <td>07 RENTALS - WALKUP APARTMENTS</td>\n",
       "      <td>2</td>\n",
       "      <td>399</td>\n",
       "      <td>39</td>\n",
       "      <td></td>\n",
       "      <td>C7</td>\n",
       "      <td>197 EAST 3RD   STREET</td>\n",
       "      <td>...</td>\n",
       "      <td>16</td>\n",
       "      <td>1</td>\n",
       "      <td>17</td>\n",
       "      <td>2212</td>\n",
       "      <td>7803</td>\n",
       "      <td>1900</td>\n",
       "      <td>2</td>\n",
       "      <td>C7</td>\n",
       "      <td>-</td>\n",
       "      <td>2016-12-09 00:00:00</td>\n",
       "    </tr>\n",
       "    <tr>\n",
       "      <th>3</th>\n",
       "      <td>7</td>\n",
       "      <td>1</td>\n",
       "      <td>ALPHABET CITY</td>\n",
       "      <td>07 RENTALS - WALKUP APARTMENTS</td>\n",
       "      <td>2B</td>\n",
       "      <td>402</td>\n",
       "      <td>21</td>\n",
       "      <td></td>\n",
       "      <td>C4</td>\n",
       "      <td>154 EAST 7TH STREET</td>\n",
       "      <td>...</td>\n",
       "      <td>10</td>\n",
       "      <td>0</td>\n",
       "      <td>10</td>\n",
       "      <td>2272</td>\n",
       "      <td>6794</td>\n",
       "      <td>1913</td>\n",
       "      <td>2</td>\n",
       "      <td>C4</td>\n",
       "      <td>3936272</td>\n",
       "      <td>2016-09-23 00:00:00</td>\n",
       "    </tr>\n",
       "    <tr>\n",
       "      <th>4</th>\n",
       "      <td>8</td>\n",
       "      <td>1</td>\n",
       "      <td>ALPHABET CITY</td>\n",
       "      <td>07 RENTALS - WALKUP APARTMENTS</td>\n",
       "      <td>2A</td>\n",
       "      <td>404</td>\n",
       "      <td>55</td>\n",
       "      <td></td>\n",
       "      <td>C2</td>\n",
       "      <td>301 EAST 10TH   STREET</td>\n",
       "      <td>...</td>\n",
       "      <td>6</td>\n",
       "      <td>0</td>\n",
       "      <td>6</td>\n",
       "      <td>2369</td>\n",
       "      <td>4615</td>\n",
       "      <td>1900</td>\n",
       "      <td>2</td>\n",
       "      <td>C2</td>\n",
       "      <td>8000000</td>\n",
       "      <td>2016-11-17 00:00:00</td>\n",
       "    </tr>\n",
       "  </tbody>\n",
       "</table>\n",
       "<p>5 rows × 22 columns</p>\n",
       "</div>"
      ],
      "text/plain": [
       "   Unnamed: 0  BOROUGH   NEIGHBORHOOD  \\\n",
       "0           4        1  ALPHABET CITY   \n",
       "1           5        1  ALPHABET CITY   \n",
       "2           6        1  ALPHABET CITY   \n",
       "3           7        1  ALPHABET CITY   \n",
       "4           8        1  ALPHABET CITY   \n",
       "\n",
       "                       BUILDING CLASS CATEGORY TAX CLASS AT PRESENT  BLOCK  \\\n",
       "0  07 RENTALS - WALKUP APARTMENTS                                2A    392   \n",
       "1  07 RENTALS - WALKUP APARTMENTS                                 2    399   \n",
       "2  07 RENTALS - WALKUP APARTMENTS                                 2    399   \n",
       "3  07 RENTALS - WALKUP APARTMENTS                                2B    402   \n",
       "4  07 RENTALS - WALKUP APARTMENTS                                2A    404   \n",
       "\n",
       "   LOT EASE-MENT BUILDING CLASS AT PRESENT                 ADDRESS  ...  \\\n",
       "0    6                                  C2            153 AVENUE B  ...   \n",
       "1   26                                  C7   234 EAST 4TH   STREET  ...   \n",
       "2   39                                  C7   197 EAST 3RD   STREET  ...   \n",
       "3   21                                  C4     154 EAST 7TH STREET  ...   \n",
       "4   55                                  C2  301 EAST 10TH   STREET  ...   \n",
       "\n",
       "  RESIDENTIAL UNITS  COMMERCIAL UNITS  TOTAL UNITS  LAND SQUARE FEET  \\\n",
       "0                 5                 0            5              1633   \n",
       "1                28                 3           31              4616   \n",
       "2                16                 1           17              2212   \n",
       "3                10                 0           10              2272   \n",
       "4                 6                 0            6              2369   \n",
       "\n",
       "   GROSS SQUARE FEET YEAR BUILT TAX CLASS AT TIME OF SALE  \\\n",
       "0               6440       1900                         2   \n",
       "1              18690       1900                         2   \n",
       "2               7803       1900                         2   \n",
       "3               6794       1913                         2   \n",
       "4               4615       1900                         2   \n",
       "\n",
       "   BUILDING CLASS AT TIME OF SALE  SALE PRICE            SALE DATE  \n",
       "0                              C2     6625000  2017-07-19 00:00:00  \n",
       "1                              C7         -    2016-12-14 00:00:00  \n",
       "2                              C7         -    2016-12-09 00:00:00  \n",
       "3                              C4     3936272  2016-09-23 00:00:00  \n",
       "4                              C2     8000000  2016-11-17 00:00:00  \n",
       "\n",
       "[5 rows x 22 columns]"
      ]
     },
     "execution_count": 3,
     "metadata": {},
     "output_type": "execute_result"
    }
   ],
   "source": [
    "df = pd.read_csv('nyc-rolling-sales.csv')\n",
    "df.head()"
   ]
  },
  {
   "cell_type": "markdown",
   "id": "9036e502",
   "metadata": {},
   "source": [
    "## A. Data Preprocessing"
   ]
  },
  {
   "cell_type": "markdown",
   "id": "8ad4819f",
   "metadata": {},
   "source": [
    "### A.1. Menghapus Kolom"
   ]
  },
  {
   "cell_type": "code",
   "execution_count": 4,
   "id": "012e5c57",
   "metadata": {},
   "outputs": [],
   "source": [
    "df.drop([\"Unnamed: 0\", \"EASE-MENT\", \"APARTMENT NUMBER\", \"ADDRESS\", \"ZIP CODE\", \"BUILDING CLASS AT PRESENT\", \"BUILDING CLASS AT TIME OF SALE\"], axis=1, inplace=True)"
   ]
  },
  {
   "cell_type": "markdown",
   "id": "0dfbf47c",
   "metadata": {},
   "source": [
    "**Keterangan** : </br>\n",
    "Kolom-kolom tersebut dihapus karena alasan-alasan seperti tidak memberikan informasi yang relevan (seperti Kolom \"Unnamed: 0\"), dan mengandung informasi identitas yang unik."
   ]
  },
  {
   "cell_type": "markdown",
   "id": "64f1e1b7",
   "metadata": {},
   "source": [
    "### A.2. Mengubah Kode pada kolom 'Borough'"
   ]
  },
  {
   "cell_type": "code",
   "execution_count": 5,
   "id": "da9e30b8",
   "metadata": {},
   "outputs": [
    {
     "data": {
      "text/html": [
       "<div>\n",
       "<style scoped>\n",
       "    .dataframe tbody tr th:only-of-type {\n",
       "        vertical-align: middle;\n",
       "    }\n",
       "\n",
       "    .dataframe tbody tr th {\n",
       "        vertical-align: top;\n",
       "    }\n",
       "\n",
       "    .dataframe thead th {\n",
       "        text-align: right;\n",
       "    }\n",
       "</style>\n",
       "<table border=\"1\" class=\"dataframe\">\n",
       "  <thead>\n",
       "    <tr style=\"text-align: right;\">\n",
       "      <th></th>\n",
       "      <th>BOROUGH</th>\n",
       "      <th>NEIGHBORHOOD</th>\n",
       "      <th>BUILDING CLASS CATEGORY</th>\n",
       "      <th>TAX CLASS AT PRESENT</th>\n",
       "      <th>BLOCK</th>\n",
       "      <th>LOT</th>\n",
       "      <th>RESIDENTIAL UNITS</th>\n",
       "      <th>COMMERCIAL UNITS</th>\n",
       "      <th>TOTAL UNITS</th>\n",
       "      <th>LAND SQUARE FEET</th>\n",
       "      <th>GROSS SQUARE FEET</th>\n",
       "      <th>YEAR BUILT</th>\n",
       "      <th>TAX CLASS AT TIME OF SALE</th>\n",
       "      <th>SALE PRICE</th>\n",
       "      <th>SALE DATE</th>\n",
       "    </tr>\n",
       "  </thead>\n",
       "  <tbody>\n",
       "    <tr>\n",
       "      <th>0</th>\n",
       "      <td>Manhattan</td>\n",
       "      <td>ALPHABET CITY</td>\n",
       "      <td>07 RENTALS - WALKUP APARTMENTS</td>\n",
       "      <td>2A</td>\n",
       "      <td>392</td>\n",
       "      <td>6</td>\n",
       "      <td>5</td>\n",
       "      <td>0</td>\n",
       "      <td>5</td>\n",
       "      <td>1633</td>\n",
       "      <td>6440</td>\n",
       "      <td>1900</td>\n",
       "      <td>2</td>\n",
       "      <td>6625000</td>\n",
       "      <td>2017-07-19 00:00:00</td>\n",
       "    </tr>\n",
       "    <tr>\n",
       "      <th>1</th>\n",
       "      <td>Manhattan</td>\n",
       "      <td>ALPHABET CITY</td>\n",
       "      <td>07 RENTALS - WALKUP APARTMENTS</td>\n",
       "      <td>2</td>\n",
       "      <td>399</td>\n",
       "      <td>26</td>\n",
       "      <td>28</td>\n",
       "      <td>3</td>\n",
       "      <td>31</td>\n",
       "      <td>4616</td>\n",
       "      <td>18690</td>\n",
       "      <td>1900</td>\n",
       "      <td>2</td>\n",
       "      <td>-</td>\n",
       "      <td>2016-12-14 00:00:00</td>\n",
       "    </tr>\n",
       "    <tr>\n",
       "      <th>2</th>\n",
       "      <td>Manhattan</td>\n",
       "      <td>ALPHABET CITY</td>\n",
       "      <td>07 RENTALS - WALKUP APARTMENTS</td>\n",
       "      <td>2</td>\n",
       "      <td>399</td>\n",
       "      <td>39</td>\n",
       "      <td>16</td>\n",
       "      <td>1</td>\n",
       "      <td>17</td>\n",
       "      <td>2212</td>\n",
       "      <td>7803</td>\n",
       "      <td>1900</td>\n",
       "      <td>2</td>\n",
       "      <td>-</td>\n",
       "      <td>2016-12-09 00:00:00</td>\n",
       "    </tr>\n",
       "    <tr>\n",
       "      <th>3</th>\n",
       "      <td>Manhattan</td>\n",
       "      <td>ALPHABET CITY</td>\n",
       "      <td>07 RENTALS - WALKUP APARTMENTS</td>\n",
       "      <td>2B</td>\n",
       "      <td>402</td>\n",
       "      <td>21</td>\n",
       "      <td>10</td>\n",
       "      <td>0</td>\n",
       "      <td>10</td>\n",
       "      <td>2272</td>\n",
       "      <td>6794</td>\n",
       "      <td>1913</td>\n",
       "      <td>2</td>\n",
       "      <td>3936272</td>\n",
       "      <td>2016-09-23 00:00:00</td>\n",
       "    </tr>\n",
       "    <tr>\n",
       "      <th>4</th>\n",
       "      <td>Manhattan</td>\n",
       "      <td>ALPHABET CITY</td>\n",
       "      <td>07 RENTALS - WALKUP APARTMENTS</td>\n",
       "      <td>2A</td>\n",
       "      <td>404</td>\n",
       "      <td>55</td>\n",
       "      <td>6</td>\n",
       "      <td>0</td>\n",
       "      <td>6</td>\n",
       "      <td>2369</td>\n",
       "      <td>4615</td>\n",
       "      <td>1900</td>\n",
       "      <td>2</td>\n",
       "      <td>8000000</td>\n",
       "      <td>2016-11-17 00:00:00</td>\n",
       "    </tr>\n",
       "  </tbody>\n",
       "</table>\n",
       "</div>"
      ],
      "text/plain": [
       "     BOROUGH   NEIGHBORHOOD                      BUILDING CLASS CATEGORY  \\\n",
       "0  Manhattan  ALPHABET CITY  07 RENTALS - WALKUP APARTMENTS                \n",
       "1  Manhattan  ALPHABET CITY  07 RENTALS - WALKUP APARTMENTS                \n",
       "2  Manhattan  ALPHABET CITY  07 RENTALS - WALKUP APARTMENTS                \n",
       "3  Manhattan  ALPHABET CITY  07 RENTALS - WALKUP APARTMENTS                \n",
       "4  Manhattan  ALPHABET CITY  07 RENTALS - WALKUP APARTMENTS                \n",
       "\n",
       "  TAX CLASS AT PRESENT  BLOCK  LOT  RESIDENTIAL UNITS  COMMERCIAL UNITS  \\\n",
       "0                   2A    392    6                  5                 0   \n",
       "1                    2    399   26                 28                 3   \n",
       "2                    2    399   39                 16                 1   \n",
       "3                   2B    402   21                 10                 0   \n",
       "4                   2A    404   55                  6                 0   \n",
       "\n",
       "   TOTAL UNITS LAND SQUARE FEET GROSS SQUARE FEET  YEAR BUILT  \\\n",
       "0            5             1633              6440        1900   \n",
       "1           31             4616             18690        1900   \n",
       "2           17             2212              7803        1900   \n",
       "3           10             2272              6794        1913   \n",
       "4            6             2369              4615        1900   \n",
       "\n",
       "   TAX CLASS AT TIME OF SALE SALE PRICE            SALE DATE  \n",
       "0                          2    6625000  2017-07-19 00:00:00  \n",
       "1                          2        -    2016-12-14 00:00:00  \n",
       "2                          2        -    2016-12-09 00:00:00  \n",
       "3                          2    3936272  2016-09-23 00:00:00  \n",
       "4                          2    8000000  2016-11-17 00:00:00  "
      ]
     },
     "execution_count": 5,
     "metadata": {},
     "output_type": "execute_result"
    }
   ],
   "source": [
    "# Mengubah kode menjadi nama masing-masing borough\n",
    "df['BOROUGH'] = df.BOROUGH.replace({1:\"Manhattan\", 2:\"Bronx\", 3:\"Brooklyn\", 4:\"Queens\", 5:\"Staten Island\"})\n",
    "df.head()"
   ]
  },
  {
   "cell_type": "markdown",
   "id": "610b246c",
   "metadata": {},
   "source": [
    "### A.3. Menampilkan Infromasi"
   ]
  },
  {
   "cell_type": "code",
   "execution_count": 6,
   "id": "4dd1c58f",
   "metadata": {},
   "outputs": [
    {
     "name": "stdout",
     "output_type": "stream",
     "text": [
      "<class 'pandas.core.frame.DataFrame'>\n",
      "RangeIndex: 84548 entries, 0 to 84547\n",
      "Data columns (total 15 columns):\n",
      " #   Column                     Non-Null Count  Dtype \n",
      "---  ------                     --------------  ----- \n",
      " 0   BOROUGH                    84548 non-null  object\n",
      " 1   NEIGHBORHOOD               84548 non-null  object\n",
      " 2   BUILDING CLASS CATEGORY    84548 non-null  object\n",
      " 3   TAX CLASS AT PRESENT       84548 non-null  object\n",
      " 4   BLOCK                      84548 non-null  int64 \n",
      " 5   LOT                        84548 non-null  int64 \n",
      " 6   RESIDENTIAL UNITS          84548 non-null  int64 \n",
      " 7   COMMERCIAL UNITS           84548 non-null  int64 \n",
      " 8   TOTAL UNITS                84548 non-null  int64 \n",
      " 9   LAND SQUARE FEET           84548 non-null  object\n",
      " 10  GROSS SQUARE FEET          84548 non-null  object\n",
      " 11  YEAR BUILT                 84548 non-null  int64 \n",
      " 12  TAX CLASS AT TIME OF SALE  84548 non-null  int64 \n",
      " 13  SALE PRICE                 84548 non-null  object\n",
      " 14  SALE DATE                  84548 non-null  object\n",
      "dtypes: int64(7), object(8)\n",
      "memory usage: 9.7+ MB\n"
     ]
    }
   ],
   "source": [
    "df.info()"
   ]
  },
  {
   "cell_type": "markdown",
   "id": "87c28f28",
   "metadata": {},
   "source": [
    "### A.4. Mengubah Tipe Data "
   ]
  },
  {
   "cell_type": "markdown",
   "id": "590c5da0",
   "metadata": {},
   "source": [
    "#### A.4.1 Tipe Data Datetime"
   ]
  },
  {
   "cell_type": "code",
   "execution_count": 7,
   "id": "cc477b9b",
   "metadata": {},
   "outputs": [],
   "source": [
    "df['SALE DATE'] = pd.to_datetime(df['SALE DATE'])"
   ]
  },
  {
   "cell_type": "markdown",
   "id": "c4f96269",
   "metadata": {},
   "source": [
    "#### A.4.2 Tipe data categoric ke numeric"
   ]
  },
  {
   "cell_type": "code",
   "execution_count": 8,
   "id": "b111cc6c",
   "metadata": {},
   "outputs": [],
   "source": [
    "convert_col = ['LAND SQUARE FEET', 'GROSS SQUARE FEET', 'SALE PRICE']\n",
    "\n",
    "for col in convert_col:\n",
    "    df[col] = pd.to_numeric(df[col], errors='coerce')"
   ]
  },
  {
   "cell_type": "markdown",
   "id": "24c504b6",
   "metadata": {},
   "source": [
    "#### A.4.3 Tipe data ke categoric"
   ]
  },
  {
   "cell_type": "code",
   "execution_count": 9,
   "id": "11260cc1",
   "metadata": {},
   "outputs": [],
   "source": [
    "df['TAX CLASS AT TIME OF SALE'] = df['TAX CLASS AT TIME OF SALE'].astype('category')\n",
    "df['TAX CLASS AT PRESENT'] = df['TAX CLASS AT PRESENT'].astype('category')"
   ]
  },
  {
   "cell_type": "code",
   "execution_count": 10,
   "id": "634e815c",
   "metadata": {},
   "outputs": [
    {
     "name": "stdout",
     "output_type": "stream",
     "text": [
      "<class 'pandas.core.frame.DataFrame'>\n",
      "RangeIndex: 84548 entries, 0 to 84547\n",
      "Data columns (total 15 columns):\n",
      " #   Column                     Non-Null Count  Dtype         \n",
      "---  ------                     --------------  -----         \n",
      " 0   BOROUGH                    84548 non-null  object        \n",
      " 1   NEIGHBORHOOD               84548 non-null  object        \n",
      " 2   BUILDING CLASS CATEGORY    84548 non-null  object        \n",
      " 3   TAX CLASS AT PRESENT       84548 non-null  category      \n",
      " 4   BLOCK                      84548 non-null  int64         \n",
      " 5   LOT                        84548 non-null  int64         \n",
      " 6   RESIDENTIAL UNITS          84548 non-null  int64         \n",
      " 7   COMMERCIAL UNITS           84548 non-null  int64         \n",
      " 8   TOTAL UNITS                84548 non-null  int64         \n",
      " 9   LAND SQUARE FEET           58296 non-null  float64       \n",
      " 10  GROSS SQUARE FEET          56936 non-null  float64       \n",
      " 11  YEAR BUILT                 84548 non-null  int64         \n",
      " 12  TAX CLASS AT TIME OF SALE  84548 non-null  category      \n",
      " 13  SALE PRICE                 69987 non-null  float64       \n",
      " 14  SALE DATE                  84548 non-null  datetime64[ns]\n",
      "dtypes: category(2), datetime64[ns](1), float64(3), int64(6), object(3)\n",
      "memory usage: 8.5+ MB\n"
     ]
    }
   ],
   "source": [
    "df.info()"
   ]
  },
  {
   "cell_type": "markdown",
   "id": "6a3ec73d",
   "metadata": {},
   "source": [
    "### A.5. Statistik Deskriptif"
   ]
  },
  {
   "cell_type": "code",
   "execution_count": 11,
   "id": "04b2965a",
   "metadata": {},
   "outputs": [
    {
     "data": {
      "text/html": [
       "<div>\n",
       "<style scoped>\n",
       "    .dataframe tbody tr th:only-of-type {\n",
       "        vertical-align: middle;\n",
       "    }\n",
       "\n",
       "    .dataframe tbody tr th {\n",
       "        vertical-align: top;\n",
       "    }\n",
       "\n",
       "    .dataframe thead th {\n",
       "        text-align: right;\n",
       "    }\n",
       "</style>\n",
       "<table border=\"1\" class=\"dataframe\">\n",
       "  <thead>\n",
       "    <tr style=\"text-align: right;\">\n",
       "      <th></th>\n",
       "      <th>BLOCK</th>\n",
       "      <th>LOT</th>\n",
       "      <th>RESIDENTIAL UNITS</th>\n",
       "      <th>COMMERCIAL UNITS</th>\n",
       "      <th>TOTAL UNITS</th>\n",
       "      <th>LAND SQUARE FEET</th>\n",
       "      <th>GROSS SQUARE FEET</th>\n",
       "      <th>YEAR BUILT</th>\n",
       "      <th>SALE PRICE</th>\n",
       "      <th>SALE DATE</th>\n",
       "    </tr>\n",
       "  </thead>\n",
       "  <tbody>\n",
       "    <tr>\n",
       "      <th>count</th>\n",
       "      <td>84548.000000</td>\n",
       "      <td>84548.000000</td>\n",
       "      <td>84548.000000</td>\n",
       "      <td>84548.000000</td>\n",
       "      <td>84548.000000</td>\n",
       "      <td>5.829600e+04</td>\n",
       "      <td>5.693600e+04</td>\n",
       "      <td>84548.000000</td>\n",
       "      <td>6.998700e+04</td>\n",
       "      <td>84548</td>\n",
       "    </tr>\n",
       "    <tr>\n",
       "      <th>mean</th>\n",
       "      <td>4237.218976</td>\n",
       "      <td>376.224015</td>\n",
       "      <td>2.025264</td>\n",
       "      <td>0.193559</td>\n",
       "      <td>2.249184</td>\n",
       "      <td>3.941676e+03</td>\n",
       "      <td>4.045707e+03</td>\n",
       "      <td>1789.322976</td>\n",
       "      <td>1.276456e+06</td>\n",
       "      <td>2017-02-26 10:03:23.018403584</td>\n",
       "    </tr>\n",
       "    <tr>\n",
       "      <th>min</th>\n",
       "      <td>1.000000</td>\n",
       "      <td>1.000000</td>\n",
       "      <td>0.000000</td>\n",
       "      <td>0.000000</td>\n",
       "      <td>0.000000</td>\n",
       "      <td>0.000000e+00</td>\n",
       "      <td>0.000000e+00</td>\n",
       "      <td>0.000000</td>\n",
       "      <td>0.000000e+00</td>\n",
       "      <td>2016-09-01 00:00:00</td>\n",
       "    </tr>\n",
       "    <tr>\n",
       "      <th>25%</th>\n",
       "      <td>1322.750000</td>\n",
       "      <td>22.000000</td>\n",
       "      <td>0.000000</td>\n",
       "      <td>0.000000</td>\n",
       "      <td>1.000000</td>\n",
       "      <td>1.650000e+03</td>\n",
       "      <td>1.046750e+03</td>\n",
       "      <td>1920.000000</td>\n",
       "      <td>2.250000e+05</td>\n",
       "      <td>2016-11-29 00:00:00</td>\n",
       "    </tr>\n",
       "    <tr>\n",
       "      <th>50%</th>\n",
       "      <td>3311.000000</td>\n",
       "      <td>50.000000</td>\n",
       "      <td>1.000000</td>\n",
       "      <td>0.000000</td>\n",
       "      <td>1.000000</td>\n",
       "      <td>2.325000e+03</td>\n",
       "      <td>1.680000e+03</td>\n",
       "      <td>1940.000000</td>\n",
       "      <td>5.300000e+05</td>\n",
       "      <td>2017-02-28 00:00:00</td>\n",
       "    </tr>\n",
       "    <tr>\n",
       "      <th>75%</th>\n",
       "      <td>6281.000000</td>\n",
       "      <td>1001.000000</td>\n",
       "      <td>2.000000</td>\n",
       "      <td>0.000000</td>\n",
       "      <td>2.000000</td>\n",
       "      <td>3.500000e+03</td>\n",
       "      <td>2.560000e+03</td>\n",
       "      <td>1965.000000</td>\n",
       "      <td>9.500000e+05</td>\n",
       "      <td>2017-05-26 00:00:00</td>\n",
       "    </tr>\n",
       "    <tr>\n",
       "      <th>max</th>\n",
       "      <td>16322.000000</td>\n",
       "      <td>9106.000000</td>\n",
       "      <td>1844.000000</td>\n",
       "      <td>2261.000000</td>\n",
       "      <td>2261.000000</td>\n",
       "      <td>4.252327e+06</td>\n",
       "      <td>3.750565e+06</td>\n",
       "      <td>2017.000000</td>\n",
       "      <td>2.210000e+09</td>\n",
       "      <td>2017-08-31 00:00:00</td>\n",
       "    </tr>\n",
       "    <tr>\n",
       "      <th>std</th>\n",
       "      <td>3568.263407</td>\n",
       "      <td>658.136814</td>\n",
       "      <td>16.721037</td>\n",
       "      <td>8.713183</td>\n",
       "      <td>18.972584</td>\n",
       "      <td>4.198397e+04</td>\n",
       "      <td>3.503249e+04</td>\n",
       "      <td>537.344993</td>\n",
       "      <td>1.140526e+07</td>\n",
       "      <td>NaN</td>\n",
       "    </tr>\n",
       "  </tbody>\n",
       "</table>\n",
       "</div>"
      ],
      "text/plain": [
       "              BLOCK           LOT  RESIDENTIAL UNITS  COMMERCIAL UNITS  \\\n",
       "count  84548.000000  84548.000000       84548.000000      84548.000000   \n",
       "mean    4237.218976    376.224015           2.025264          0.193559   \n",
       "min        1.000000      1.000000           0.000000          0.000000   \n",
       "25%     1322.750000     22.000000           0.000000          0.000000   \n",
       "50%     3311.000000     50.000000           1.000000          0.000000   \n",
       "75%     6281.000000   1001.000000           2.000000          0.000000   \n",
       "max    16322.000000   9106.000000        1844.000000       2261.000000   \n",
       "std     3568.263407    658.136814          16.721037          8.713183   \n",
       "\n",
       "        TOTAL UNITS  LAND SQUARE FEET  GROSS SQUARE FEET    YEAR BUILT  \\\n",
       "count  84548.000000      5.829600e+04       5.693600e+04  84548.000000   \n",
       "mean       2.249184      3.941676e+03       4.045707e+03   1789.322976   \n",
       "min        0.000000      0.000000e+00       0.000000e+00      0.000000   \n",
       "25%        1.000000      1.650000e+03       1.046750e+03   1920.000000   \n",
       "50%        1.000000      2.325000e+03       1.680000e+03   1940.000000   \n",
       "75%        2.000000      3.500000e+03       2.560000e+03   1965.000000   \n",
       "max     2261.000000      4.252327e+06       3.750565e+06   2017.000000   \n",
       "std       18.972584      4.198397e+04       3.503249e+04    537.344993   \n",
       "\n",
       "         SALE PRICE                      SALE DATE  \n",
       "count  6.998700e+04                          84548  \n",
       "mean   1.276456e+06  2017-02-26 10:03:23.018403584  \n",
       "min    0.000000e+00            2016-09-01 00:00:00  \n",
       "25%    2.250000e+05            2016-11-29 00:00:00  \n",
       "50%    5.300000e+05            2017-02-28 00:00:00  \n",
       "75%    9.500000e+05            2017-05-26 00:00:00  \n",
       "max    2.210000e+09            2017-08-31 00:00:00  \n",
       "std    1.140526e+07                            NaN  "
      ]
     },
     "execution_count": 11,
     "metadata": {},
     "output_type": "execute_result"
    }
   ],
   "source": [
    "df.describe()"
   ]
  },
  {
   "cell_type": "markdown",
   "id": "4f80d659",
   "metadata": {},
   "source": [
    "### A.6 Missing Value"
   ]
  },
  {
   "cell_type": "code",
   "execution_count": 12,
   "id": "bcb7a8d8",
   "metadata": {},
   "outputs": [
    {
     "data": {
      "text/plain": [
       "BOROUGH                          0\n",
       "NEIGHBORHOOD                     0\n",
       "BUILDING CLASS CATEGORY          0\n",
       "TAX CLASS AT PRESENT             0\n",
       "BLOCK                            0\n",
       "LOT                              0\n",
       "RESIDENTIAL UNITS                0\n",
       "COMMERCIAL UNITS                 0\n",
       "TOTAL UNITS                      0\n",
       "LAND SQUARE FEET             26252\n",
       "GROSS SQUARE FEET            27612\n",
       "YEAR BUILT                       0\n",
       "TAX CLASS AT TIME OF SALE        0\n",
       "SALE PRICE                   14561\n",
       "SALE DATE                        0\n",
       "dtype: int64"
      ]
     },
     "execution_count": 12,
     "metadata": {},
     "output_type": "execute_result"
    }
   ],
   "source": [
    "df.isnull().sum()"
   ]
  },
  {
   "cell_type": "code",
   "execution_count": 13,
   "id": "4085b8fb",
   "metadata": {},
   "outputs": [
    {
     "data": {
      "image/png": "[encoded data removed]",
      "text/plain": [
       "<Figure size 1200x600 with 3 Axes>"
      ]
     },
     "metadata": {},
     "output_type": "display_data"
    }
   ],
   "source": [
    "import matplotlib.pyplot as plt\n",
    "import seaborn as sns\n",
    "\n",
    "plt.figure(figsize=(12, 6))\n",
    "\n",
    "# Box plot LAND SQUARE FEET\n",
    "plt.subplot(2, 2, 1)\n",
    "sns.boxplot(x=df['LAND SQUARE FEET'])\n",
    "plt.title('Box Plot - LAND SQUARE FEET')\n",
    "\n",
    "# Box plot GROSS SQUARE FEET\n",
    "plt.subplot(2, 2, 2)\n",
    "sns.boxplot(x=df['GROSS SQUARE FEET'])\n",
    "plt.title('Box Plot - GROSS SQUARE FEET')\n",
    "\n",
    "# Box plot SALE PRICE\n",
    "plt.subplot(2, 2, 3)\n",
    "sns.boxplot(x=df['SALE PRICE'])\n",
    "plt.title('Box Plot - SALE PRICE')\n",
    "\n",
    "plt.tight_layout()\n",
    "plt.show()"
   ]
  },
  {
   "cell_type": "code",
   "execution_count": 14,
   "id": "919150ac",
   "metadata": {},
   "outputs": [
    {
     "name": "stdout",
     "output_type": "stream",
     "text": [
      "Skewness LAND SQUARE FEET: 73.34198070893135\n",
      "Skewness GROSS SQUARE FEET: 59.636819458079074\n",
      "Skewness SALE PRICE: 124.09425128278802\n"
     ]
    }
   ],
   "source": [
    "skewness_land_square_feet = df['LAND SQUARE FEET'].skew()\n",
    "skewness_gross_square_feet = df['GROSS SQUARE FEET'].skew()\n",
    "skewness_sale_price = df['SALE PRICE'].skew()\n",
    "\n",
    "print(\"Skewness LAND SQUARE FEET:\", skewness_land_square_feet)\n",
    "print(\"Skewness GROSS SQUARE FEET:\", skewness_gross_square_feet)\n",
    "print(\"Skewness SALE PRICE:\", skewness_sale_price)"
   ]
  },
  {
   "cell_type": "markdown",
   "id": "8ae757be",
   "metadata": {},
   "source": [
    "**Keterangan :** </br>\n",
    "\n",
    "Skewness mengukur sejauh mana distribusi data cenderung miring atau asimetris. Nilai skewness dapat positif, negatif, atau nol. </br>\n",
    "1. LAND SQUARE FEET:\n",
    "- Skewness LAND SQUARE FEET: 73.34 (Positif)\n",
    "- Interpretasi: Distribusi data LAND SQUARE FEET cenderung miring ke kanan (positif). Ini berarti ada ekor panjang di sebelah kanan distribusi, dan sebagian besar nilai cenderung berada di sebelah kiri.\n",
    "2. GROSS SQUARE FEET:\n",
    "- Skewness GROSS SQUARE FEET: 59.64 (Positif)\n",
    "- Interpretasi: Distribusi data GROSS SQUARE FEET juga cenderung miring ke kanan (positif). Seperti LAND SQUARE FEET, ini menunjukkan adanya ekor panjang di sebelah kanan distribusi.\n",
    "3. SALE PRICE:\n",
    "- Skewness SALE PRICE: 124.09 (Positif)\n",
    "- Interpretasi: Skewness SALE PRICE sangat tinggi, menunjukkan bahwa distribusi data SALE PRICE sangat miring ke kanan. Ada ekor panjang di sebelah kanan distribusi, dan sebagian besar nilai cenderung berada di sebelah kiri.\n",
    "\n",
    "Dengan nilai skewness yang tinggi, menggunakan mean sebagai imputasi untuk missing values mungkin tidak akan merepresentasikan distribusi data yang benar karena akan dipengaruhi oleh nilai ekstrem. Sebagai alternatif, median mungkin lebih sesuai karena kurang sensitif terhadap nilai ekstrim dan lebih mencerminkan kecenderungan sentral dari distribusi yang miring."
   ]
  },
  {
   "cell_type": "code",
   "execution_count": 15,
   "id": "26041695",
   "metadata": {},
   "outputs": [],
   "source": [
    "# Handling Missing value dengan median\n",
    "df['LAND SQUARE FEET'].fillna(df['LAND SQUARE FEET'].median(), inplace=True)\n",
    "df['GROSS SQUARE FEET'].fillna(df['GROSS SQUARE FEET'].median(), inplace=True)\n",
    "df['SALE PRICE'].fillna(df['SALE PRICE'].median(), inplace=True)"
   ]
  },
  {
   "cell_type": "code",
   "execution_count": 16,
   "id": "ec366c43",
   "metadata": {},
   "outputs": [
    {
     "data": {
      "text/plain": [
       "BOROUGH                      0\n",
       "NEIGHBORHOOD                 0\n",
       "BUILDING CLASS CATEGORY      0\n",
       "TAX CLASS AT PRESENT         0\n",
       "BLOCK                        0\n",
       "LOT                          0\n",
       "RESIDENTIAL UNITS            0\n",
       "COMMERCIAL UNITS             0\n",
       "TOTAL UNITS                  0\n",
       "LAND SQUARE FEET             0\n",
       "GROSS SQUARE FEET            0\n",
       "YEAR BUILT                   0\n",
       "TAX CLASS AT TIME OF SALE    0\n",
       "SALE PRICE                   0\n",
       "SALE DATE                    0\n",
       "dtype: int64"
      ]
     },
     "execution_count": 16,
     "metadata": {},
     "output_type": "execute_result"
    }
   ],
   "source": [
    "# cek kembali missing value\n",
    "df.isnull().sum()"
   ]
  },
  {
   "cell_type": "markdown",
   "id": "4d6c6a86",
   "metadata": {},
   "source": [
    "### A.7 Data Duplicated"
   ]
  },
  {
   "cell_type": "code",
   "execution_count": 19,
   "id": "1a61d67b",
   "metadata": {},
   "outputs": [
    {
     "data": {
      "text/plain": [
       "False    83587\n",
       "True       961\n",
       "Name: count, dtype: int64"
      ]
     },
     "execution_count": 19,
     "metadata": {},
     "output_type": "execute_result"
    }
   ],
   "source": [
    "df.duplicated().value_counts()"
   ]
  },
  {
   "cell_type": "markdown",
   "id": "b4e8de94",
   "metadata": {},
   "source": [
    "terdapat 961 data duplikat"
   ]
  },
  {
   "cell_type": "code",
   "execution_count": 21,
   "id": "9e3b1f32",
   "metadata": {},
   "outputs": [],
   "source": [
    "df.drop_duplicates(inplace=True)"
   ]
  },
  {
   "cell_type": "code",
   "execution_count": 23,
   "id": "93b1dbbb",
   "metadata": {},
   "outputs": [],
   "source": [
    "df.reset_index(drop=True, inplace=True)"
   ]
  },
  {
   "cell_type": "code",
   "execution_count": 24,
   "id": "6ced7241",
   "metadata": {},
   "outputs": [
    {
     "data": {
      "text/html": [
       "<div>\n",
       "<style scoped>\n",
       "    .dataframe tbody tr th:only-of-type {\n",
       "        vertical-align: middle;\n",
       "    }\n",
       "\n",
       "    .dataframe tbody tr th {\n",
       "        vertical-align: top;\n",
       "    }\n",
       "\n",
       "    .dataframe thead th {\n",
       "        text-align: right;\n",
       "    }\n",
       "</style>\n",
       "<table border=\"1\" class=\"dataframe\">\n",
       "  <thead>\n",
       "    <tr style=\"text-align: right;\">\n",
       "      <th></th>\n",
       "      <th>BOROUGH</th>\n",
       "      <th>NEIGHBORHOOD</th>\n",
       "      <th>BUILDING CLASS CATEGORY</th>\n",
       "      <th>TAX CLASS AT PRESENT</th>\n",
       "      <th>BLOCK</th>\n",
       "      <th>LOT</th>\n",
       "      <th>RESIDENTIAL UNITS</th>\n",
       "      <th>COMMERCIAL UNITS</th>\n",
       "      <th>TOTAL UNITS</th>\n",
       "      <th>LAND SQUARE FEET</th>\n",
       "      <th>GROSS SQUARE FEET</th>\n",
       "      <th>YEAR BUILT</th>\n",
       "      <th>TAX CLASS AT TIME OF SALE</th>\n",
       "      <th>SALE PRICE</th>\n",
       "      <th>SALE DATE</th>\n",
       "    </tr>\n",
       "  </thead>\n",
       "  <tbody>\n",
       "    <tr>\n",
       "      <th>0</th>\n",
       "      <td>Manhattan</td>\n",
       "      <td>ALPHABET CITY</td>\n",
       "      <td>07 RENTALS - WALKUP APARTMENTS</td>\n",
       "      <td>2A</td>\n",
       "      <td>392</td>\n",
       "      <td>6</td>\n",
       "      <td>5</td>\n",
       "      <td>0</td>\n",
       "      <td>5</td>\n",
       "      <td>1633.0</td>\n",
       "      <td>6440.0</td>\n",
       "      <td>1900</td>\n",
       "      <td>2</td>\n",
       "      <td>6625000.0</td>\n",
       "      <td>2017-07-19</td>\n",
       "    </tr>\n",
       "    <tr>\n",
       "      <th>1</th>\n",
       "      <td>Manhattan</td>\n",
       "      <td>ALPHABET CITY</td>\n",
       "      <td>07 RENTALS - WALKUP APARTMENTS</td>\n",
       "      <td>2</td>\n",
       "      <td>399</td>\n",
       "      <td>26</td>\n",
       "      <td>28</td>\n",
       "      <td>3</td>\n",
       "      <td>31</td>\n",
       "      <td>4616.0</td>\n",
       "      <td>18690.0</td>\n",
       "      <td>1900</td>\n",
       "      <td>2</td>\n",
       "      <td>530000.0</td>\n",
       "      <td>2016-12-14</td>\n",
       "    </tr>\n",
       "    <tr>\n",
       "      <th>2</th>\n",
       "      <td>Manhattan</td>\n",
       "      <td>ALPHABET CITY</td>\n",
       "      <td>07 RENTALS - WALKUP APARTMENTS</td>\n",
       "      <td>2</td>\n",
       "      <td>399</td>\n",
       "      <td>39</td>\n",
       "      <td>16</td>\n",
       "      <td>1</td>\n",
       "      <td>17</td>\n",
       "      <td>2212.0</td>\n",
       "      <td>7803.0</td>\n",
       "      <td>1900</td>\n",
       "      <td>2</td>\n",
       "      <td>530000.0</td>\n",
       "      <td>2016-12-09</td>\n",
       "    </tr>\n",
       "    <tr>\n",
       "      <th>3</th>\n",
       "      <td>Manhattan</td>\n",
       "      <td>ALPHABET CITY</td>\n",
       "      <td>07 RENTALS - WALKUP APARTMENTS</td>\n",
       "      <td>2B</td>\n",
       "      <td>402</td>\n",
       "      <td>21</td>\n",
       "      <td>10</td>\n",
       "      <td>0</td>\n",
       "      <td>10</td>\n",
       "      <td>2272.0</td>\n",
       "      <td>6794.0</td>\n",
       "      <td>1913</td>\n",
       "      <td>2</td>\n",
       "      <td>3936272.0</td>\n",
       "      <td>2016-09-23</td>\n",
       "    </tr>\n",
       "    <tr>\n",
       "      <th>4</th>\n",
       "      <td>Manhattan</td>\n",
       "      <td>ALPHABET CITY</td>\n",
       "      <td>07 RENTALS - WALKUP APARTMENTS</td>\n",
       "      <td>2A</td>\n",
       "      <td>404</td>\n",
       "      <td>55</td>\n",
       "      <td>6</td>\n",
       "      <td>0</td>\n",
       "      <td>6</td>\n",
       "      <td>2369.0</td>\n",
       "      <td>4615.0</td>\n",
       "      <td>1900</td>\n",
       "      <td>2</td>\n",
       "      <td>8000000.0</td>\n",
       "      <td>2016-11-17</td>\n",
       "    </tr>\n",
       "  </tbody>\n",
       "</table>\n",
       "</div>"
      ],
      "text/plain": [
       "     BOROUGH   NEIGHBORHOOD                      BUILDING CLASS CATEGORY  \\\n",
       "0  Manhattan  ALPHABET CITY  07 RENTALS - WALKUP APARTMENTS                \n",
       "1  Manhattan  ALPHABET CITY  07 RENTALS - WALKUP APARTMENTS                \n",
       "2  Manhattan  ALPHABET CITY  07 RENTALS - WALKUP APARTMENTS                \n",
       "3  Manhattan  ALPHABET CITY  07 RENTALS - WALKUP APARTMENTS                \n",
       "4  Manhattan  ALPHABET CITY  07 RENTALS - WALKUP APARTMENTS                \n",
       "\n",
       "  TAX CLASS AT PRESENT  BLOCK  LOT  RESIDENTIAL UNITS  COMMERCIAL UNITS  \\\n",
       "0                   2A    392    6                  5                 0   \n",
       "1                    2    399   26                 28                 3   \n",
       "2                    2    399   39                 16                 1   \n",
       "3                   2B    402   21                 10                 0   \n",
       "4                   2A    404   55                  6                 0   \n",
       "\n",
       "   TOTAL UNITS  LAND SQUARE FEET  GROSS SQUARE FEET  YEAR BUILT  \\\n",
       "0            5            1633.0             6440.0        1900   \n",
       "1           31            4616.0            18690.0        1900   \n",
       "2           17            2212.0             7803.0        1900   \n",
       "3           10            2272.0             6794.0        1913   \n",
       "4            6            2369.0             4615.0        1900   \n",
       "\n",
       "  TAX CLASS AT TIME OF SALE  SALE PRICE  SALE DATE  \n",
       "0                         2   6625000.0 2017-07-19  \n",
       "1                         2    530000.0 2016-12-14  \n",
       "2                         2    530000.0 2016-12-09  \n",
       "3                         2   3936272.0 2016-09-23  \n",
       "4                         2   8000000.0 2016-11-17  "
      ]
     },
     "execution_count": 24,
     "metadata": {},
     "output_type": "execute_result"
    }
   ],
   "source": [
    "df.head()"
   ]
  },
  {
   "cell_type": "markdown",
   "id": "80e7a478",
   "metadata": {},
   "source": [
    "## B.  Measure of Central Tendency"
   ]
  },
  {
   "cell_type": "markdown",
   "id": "2e899fce",
   "metadata": {},
   "source": [
    "### B.1 Mean"
   ]
  },
  {
   "cell_type": "code",
   "execution_count": 30,
   "id": "2c627ad8",
   "metadata": {},
   "outputs": [
    {
     "name": "stdout",
     "output_type": "stream",
     "text": [
      "Mean SALE PRICE: 1155403.828\n"
     ]
    }
   ],
   "source": [
    "# Melihat mean dari kolom SALE PRICE\n",
    "mean_price = df['SALE PRICE'].mean()\n",
    "print(\"Mean SALE PRICE:\", f\"{mean_price:.3f}\")"
   ]
  },
  {
   "cell_type": "code",
   "execution_count": 41,
   "id": "f05d97fe",
   "metadata": {},
   "outputs": [
    {
     "data": {
      "text/html": [
       "<div>\n",
       "<style scoped>\n",
       "    .dataframe tbody tr th:only-of-type {\n",
       "        vertical-align: middle;\n",
       "    }\n",
       "\n",
       "    .dataframe tbody tr th {\n",
       "        vertical-align: top;\n",
       "    }\n",
       "\n",
       "    .dataframe thead th {\n",
       "        text-align: right;\n",
       "    }\n",
       "</style>\n",
       "<table border=\"1\" class=\"dataframe\">\n",
       "  <thead>\n",
       "    <tr style=\"text-align: right;\">\n",
       "      <th></th>\n",
       "      <th>SALE PRICE</th>\n",
       "    </tr>\n",
       "    <tr>\n",
       "      <th>BOROUGH</th>\n",
       "      <th></th>\n",
       "    </tr>\n",
       "  </thead>\n",
       "  <tbody>\n",
       "    <tr>\n",
       "      <th>Manhattan</th>\n",
       "      <td>2.773636e+06</td>\n",
       "    </tr>\n",
       "    <tr>\n",
       "      <th>Brooklyn</th>\n",
       "      <td>8.423449e+05</td>\n",
       "    </tr>\n",
       "    <tr>\n",
       "      <th>Queens</th>\n",
       "      <td>6.753599e+05</td>\n",
       "    </tr>\n",
       "    <tr>\n",
       "      <th>Bronx</th>\n",
       "      <td>5.955543e+05</td>\n",
       "    </tr>\n",
       "    <tr>\n",
       "      <th>Staten Island</th>\n",
       "      <td>5.398224e+05</td>\n",
       "    </tr>\n",
       "  </tbody>\n",
       "</table>\n",
       "</div>"
      ],
      "text/plain": [
       "                 SALE PRICE\n",
       "BOROUGH                    \n",
       "Manhattan      2.773636e+06\n",
       "Brooklyn       8.423449e+05\n",
       "Queens         6.753599e+05\n",
       "Bronx          5.955543e+05\n",
       "Staten Island  5.398224e+05"
      ]
     },
     "execution_count": 41,
     "metadata": {},
     "output_type": "execute_result"
    }
   ],
   "source": [
    "mean_price_borough = df.groupby('BOROUGH').agg({'SALE PRICE':np.mean})\n",
    "mean_price_borough.sort_values(by='SALE PRICE', ascending=False)"
   ]
  },
  {
   "cell_type": "code",
   "execution_count": 38,
   "id": "b51deb65",
   "metadata": {},
   "outputs": [
    {
     "data": {
      "text/plain": [
       "Text(0, 0.5, 'BOROUGH')"
      ]
     },
     "execution_count": 38,
     "metadata": {},
     "output_type": "execute_result"
    },
    {
     "data": {
      "image/png": "[encoded data removed]",
      "text/plain": [
       "<Figure size 1000x600 with 1 Axes>"
      ]
     },
     "metadata": {},
     "output_type": "display_data"
    }
   ],
   "source": [
    "fig, ax = plt.subplots(figsize=(10, 6))\n",
    "mean_price_borough['SALE PRICE'].sort_values().plot(kind='barh', color='skyblue', ax=ax)\n",
    "\n",
    "# Anotasi nilai di sebelah batang\n",
    "for index, value in enumerate(mean_price_borough['SALE PRICE'].sort_values()):\n",
    "    ax.text(value, index, f'{value:,.2f}', ha='left', va='center')\n",
    "\n",
    "plt.title(\"SALE PRICE by BOROUGH\")\n",
    "plt.xlabel(\"SALE PRICE\")\n",
    "plt.ylabel(\"BOROUGH\")"
   ]
  },
  {
   "cell_type": "markdown",
   "id": "6885db3d",
   "metadata": {},
   "source": [
    "**Kesimpulan :** </br> \n",
    "Berdasarkan data SALE PRICE untuk setiap BOROUGH, kita dapat membuat beberapa kesimpulan:\n",
    "1. Manhattan memiliki SALE PRICE tertinggi:\n",
    "Manhattan memiliki SALE PRICE rata-rata yang jauh lebih tinggi dibandingkan dengan BOROUGH lainnya, dengan nilai sekitar 2.77 juta.\n",
    "2. Urutan SALE PRICE dari tertinggi ke terendah:\n",
    "Manhattan memiliki SALE PRICE tertinggi diikuti oleh Brooklyn, Queens, Bronx, dan Staten Island.\n",
    "3. Perbedaan signifikan antara Manhattan dan BOROUGH lainnya:\n",
    "SALE PRICE di Manhattan secara signifikan lebih tinggi dibandingkan dengan BOROUGH lainnya, menunjukkan perbedaan pasar properti yang mencolok antara Manhattan dan daerah lainnya di New York City."
   ]
  },
  {
   "cell_type": "markdown",
   "id": "e2f485aa",
   "metadata": {},
   "source": [
    "#### B.1.2 Harmonic Mean"
   ]
  },
  {
   "cell_type": "code",
   "execution_count": 43,
   "id": "ffcfc817",
   "metadata": {},
   "outputs": [
    {
     "data": {
      "text/html": [
       "<div>\n",
       "<style scoped>\n",
       "    .dataframe tbody tr th:only-of-type {\n",
       "        vertical-align: middle;\n",
       "    }\n",
       "\n",
       "    .dataframe tbody tr th {\n",
       "        vertical-align: top;\n",
       "    }\n",
       "\n",
       "    .dataframe thead th {\n",
       "        text-align: right;\n",
       "    }\n",
       "</style>\n",
       "<table border=\"1\" class=\"dataframe\">\n",
       "  <thead>\n",
       "    <tr style=\"text-align: right;\">\n",
       "      <th></th>\n",
       "      <th>BOROUGH</th>\n",
       "      <th>NEIGHBORHOOD</th>\n",
       "      <th>BUILDING CLASS CATEGORY</th>\n",
       "      <th>TAX CLASS AT PRESENT</th>\n",
       "      <th>BLOCK</th>\n",
       "      <th>LOT</th>\n",
       "      <th>RESIDENTIAL UNITS</th>\n",
       "      <th>COMMERCIAL UNITS</th>\n",
       "      <th>TOTAL UNITS</th>\n",
       "      <th>LAND SQUARE FEET</th>\n",
       "      <th>GROSS SQUARE FEET</th>\n",
       "      <th>YEAR BUILT</th>\n",
       "      <th>TAX CLASS AT TIME OF SALE</th>\n",
       "      <th>SALE PRICE</th>\n",
       "      <th>SALE DATE</th>\n",
       "    </tr>\n",
       "  </thead>\n",
       "  <tbody>\n",
       "    <tr>\n",
       "      <th>0</th>\n",
       "      <td>Manhattan</td>\n",
       "      <td>ALPHABET CITY</td>\n",
       "      <td>07 RENTALS - WALKUP APARTMENTS</td>\n",
       "      <td>2A</td>\n",
       "      <td>392</td>\n",
       "      <td>6</td>\n",
       "      <td>5</td>\n",
       "      <td>0</td>\n",
       "      <td>5</td>\n",
       "      <td>1633.0</td>\n",
       "      <td>6440.0</td>\n",
       "      <td>1900</td>\n",
       "      <td>2</td>\n",
       "      <td>6625000.0</td>\n",
       "      <td>2017-07-19</td>\n",
       "    </tr>\n",
       "    <tr>\n",
       "      <th>1</th>\n",
       "      <td>Manhattan</td>\n",
       "      <td>ALPHABET CITY</td>\n",
       "      <td>07 RENTALS - WALKUP APARTMENTS</td>\n",
       "      <td>2</td>\n",
       "      <td>399</td>\n",
       "      <td>26</td>\n",
       "      <td>28</td>\n",
       "      <td>3</td>\n",
       "      <td>31</td>\n",
       "      <td>4616.0</td>\n",
       "      <td>18690.0</td>\n",
       "      <td>1900</td>\n",
       "      <td>2</td>\n",
       "      <td>530000.0</td>\n",
       "      <td>2016-12-14</td>\n",
       "    </tr>\n",
       "    <tr>\n",
       "      <th>2</th>\n",
       "      <td>Manhattan</td>\n",
       "      <td>ALPHABET CITY</td>\n",
       "      <td>07 RENTALS - WALKUP APARTMENTS</td>\n",
       "      <td>2</td>\n",
       "      <td>399</td>\n",
       "      <td>39</td>\n",
       "      <td>16</td>\n",
       "      <td>1</td>\n",
       "      <td>17</td>\n",
       "      <td>2212.0</td>\n",
       "      <td>7803.0</td>\n",
       "      <td>1900</td>\n",
       "      <td>2</td>\n",
       "      <td>530000.0</td>\n",
       "      <td>2016-12-09</td>\n",
       "    </tr>\n",
       "    <tr>\n",
       "      <th>3</th>\n",
       "      <td>Manhattan</td>\n",
       "      <td>ALPHABET CITY</td>\n",
       "      <td>07 RENTALS - WALKUP APARTMENTS</td>\n",
       "      <td>2B</td>\n",
       "      <td>402</td>\n",
       "      <td>21</td>\n",
       "      <td>10</td>\n",
       "      <td>0</td>\n",
       "      <td>10</td>\n",
       "      <td>2272.0</td>\n",
       "      <td>6794.0</td>\n",
       "      <td>1913</td>\n",
       "      <td>2</td>\n",
       "      <td>3936272.0</td>\n",
       "      <td>2016-09-23</td>\n",
       "    </tr>\n",
       "    <tr>\n",
       "      <th>4</th>\n",
       "      <td>Manhattan</td>\n",
       "      <td>ALPHABET CITY</td>\n",
       "      <td>07 RENTALS - WALKUP APARTMENTS</td>\n",
       "      <td>2A</td>\n",
       "      <td>404</td>\n",
       "      <td>55</td>\n",
       "      <td>6</td>\n",
       "      <td>0</td>\n",
       "      <td>6</td>\n",
       "      <td>2369.0</td>\n",
       "      <td>4615.0</td>\n",
       "      <td>1900</td>\n",
       "      <td>2</td>\n",
       "      <td>8000000.0</td>\n",
       "      <td>2016-11-17</td>\n",
       "    </tr>\n",
       "  </tbody>\n",
       "</table>\n",
       "</div>"
      ],
      "text/plain": [
       "     BOROUGH   NEIGHBORHOOD                      BUILDING CLASS CATEGORY  \\\n",
       "0  Manhattan  ALPHABET CITY  07 RENTALS - WALKUP APARTMENTS                \n",
       "1  Manhattan  ALPHABET CITY  07 RENTALS - WALKUP APARTMENTS                \n",
       "2  Manhattan  ALPHABET CITY  07 RENTALS - WALKUP APARTMENTS                \n",
       "3  Manhattan  ALPHABET CITY  07 RENTALS - WALKUP APARTMENTS                \n",
       "4  Manhattan  ALPHABET CITY  07 RENTALS - WALKUP APARTMENTS                \n",
       "\n",
       "  TAX CLASS AT PRESENT  BLOCK  LOT  RESIDENTIAL UNITS  COMMERCIAL UNITS  \\\n",
       "0                   2A    392    6                  5                 0   \n",
       "1                    2    399   26                 28                 3   \n",
       "2                    2    399   39                 16                 1   \n",
       "3                   2B    402   21                 10                 0   \n",
       "4                   2A    404   55                  6                 0   \n",
       "\n",
       "   TOTAL UNITS  LAND SQUARE FEET  GROSS SQUARE FEET  YEAR BUILT  \\\n",
       "0            5            1633.0             6440.0        1900   \n",
       "1           31            4616.0            18690.0        1900   \n",
       "2           17            2212.0             7803.0        1900   \n",
       "3           10            2272.0             6794.0        1913   \n",
       "4            6            2369.0             4615.0        1900   \n",
       "\n",
       "  TAX CLASS AT TIME OF SALE  SALE PRICE  SALE DATE  \n",
       "0                         2   6625000.0 2017-07-19  \n",
       "1                         2    530000.0 2016-12-14  \n",
       "2                         2    530000.0 2016-12-09  \n",
       "3                         2   3936272.0 2016-09-23  \n",
       "4                         2   8000000.0 2016-11-17  "
      ]
     },
     "execution_count": 43,
     "metadata": {},
     "output_type": "execute_result"
    }
   ],
   "source": [
    "df.head()"
   ]
  },
  {
   "cell_type": "code",
   "execution_count": 49,
   "id": "a9a93dac",
   "metadata": {},
   "outputs": [
    {
     "name": "stdout",
     "output_type": "stream",
     "text": [
      "Harmonic Mean of TAX CLASS AT TIME OF SALE: 1.37\n"
     ]
    }
   ],
   "source": [
    "from scipy.stats import hmean\n",
    "# Hitung harmonic mean\n",
    "harmonic_mean = hmean(df['TAX CLASS AT TIME OF SALE'])\n",
    "\n",
    "# Tampilkan hasil\n",
    "print(f\"Harmonic Mean of TAX CLASS AT TIME OF SALE: {harmonic_mean:.2f}\")"
   ]
  },
  {
   "cell_type": "markdown",
   "id": "699e2bdb",
   "metadata": {},
   "source": [
    "**Kesimpulan**\n",
    "1. Kelas Pajak Properti Cenderung Merata: Rata-rata harmonik sekitar 1.37 menunjukkan bahwa distribusi kelas pajak properti pada saat penjualan cenderung relatif merata. Nilai ini mencerminkan ketergantungan timbal balik antar-nilai dalam kolom 'TAX CLASS AT TIME OF SALE'.\n",
    "2. Tidak Ada Nilai Negatif atau Nol: Harmonic mean dapat dihitung tanpa masalah, menandakan bahwa tidak ada nilai nol atau negatif dalam kolom 'TAX CLASS AT TIME OF SALE'.\n",
    "3. Interpretasi Nilai Harmonic Mean: Nilai 1.37 adalah hasil dari perhitungan harmonic mean dan menunjukkan tingkat ketergantungan timbal balik antar-nilai yang moderat."
   ]
  },
  {
   "cell_type": "markdown",
   "id": "6d20066f",
   "metadata": {},
   "source": [
    "#### B.1.3 Weighted Mean"
   ]
  },
  {
   "cell_type": "code",
   "execution_count": null,
   "id": "99156c48",
   "metadata": {},
   "outputs": [],
   "source": []
  }
 ],
 "metadata": {
  "kernelspec": {
   "display_name": "Python 3 (ipykernel)",
   "language": "python",
   "name": "python3"
  },
  "language_info": {
   "codemirror_mode": {
    "name": "ipython",
    "version": 3
   },
   "file_extension": ".py",
   "mimetype": "text/x-python",
   "name": "python",
   "nbconvert_exporter": "python",
   "pygments_lexer": "ipython3",
   "version": "3.11.4"
  }
 },
 "nbformat": 4,
 "nbformat_minor": 5
}
